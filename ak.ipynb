{
 "cells": [
  {
   "cell_type": "code",
   "execution_count": 55,
   "id": "1826e47a",
   "metadata": {},
   "outputs": [],
   "source": [
    "import pandas as pd"
   ]
  },
  {
   "cell_type": "code",
   "execution_count": 56,
   "id": "b669a3ae",
   "metadata": {},
   "outputs": [],
   "source": [
    "\n",
    "data = pd.read_csv('house_prices_india.csv')\n"
   ]
  },
  {
   "cell_type": "code",
   "execution_count": 57,
   "id": "913cb68c",
   "metadata": {
    "scrolled": true
   },
   "outputs": [
    {
     "name": "stdout",
     "output_type": "stream",
     "text": [
      "<class 'pandas.core.frame.DataFrame'>\n",
      "RangeIndex: 164 entries, 0 to 163\n",
      "Data columns (total 6 columns):\n",
      " #   Column           Non-Null Count  Dtype \n",
      "---  ------           --------------  ----- \n",
      " 0   Appartment_type  164 non-null    object\n",
      " 1   Price_per_sq_ft  164 non-null    object\n",
      " 2   Area             164 non-null    int64 \n",
      " 3   Price            164 non-null    int64 \n",
      " 4   Status           164 non-null    object\n",
      " 5   Location         164 non-null    object\n",
      "dtypes: int64(2), object(4)\n",
      "memory usage: 7.8+ KB\n",
      "None\n"
     ]
    }
   ],
   "source": [
    "print(data.info())"
   ]
  },
  {
   "cell_type": "code",
   "execution_count": 58,
   "id": "5f2e9b07",
   "metadata": {},
   "outputs": [
    {
     "name": "stdout",
     "output_type": "stream",
     "text": [
      "  Appartment_type Price_per_sq_ft  Area     Price         Status  \\\n",
      "0          3 BHK            7,729  1035   8000000  Ready to move   \n",
      "1          3 BHK            4,889  1534   7500000  Ready to move   \n",
      "2          3 BHK            3,000  1000   3000000  Ready to move   \n",
      "3          3 BHK           15,000  2000  30000000  Ready to move   \n",
      "4          3 BHK            4,166  1560   6500000  Ready to move   \n",
      "\n",
      "                          Location  \n",
      "0           Patthri Bagh, Dehradun  \n",
      "1             Aman Vihar, Dehradun  \n",
      "2  Tanda Ujjain, Udham Singh Nagar  \n",
      "3           Ganga Nagar, Rishikesh  \n",
      "4               Modipuram, Roorkee  \n"
     ]
    }
   ],
   "source": [
    "print(data.head())"
   ]
  },
  {
   "cell_type": "code",
   "execution_count": 59,
   "id": "c81abc8d",
   "metadata": {
    "scrolled": false
   },
   "outputs": [
    {
     "name": "stdout",
     "output_type": "stream",
     "text": [
      "Location           object\n",
      "Status             object\n",
      "Area                int64\n",
      "Price               int64\n",
      "Price_per_sq_ft    object\n",
      "Appartment_type    object\n",
      "dtype: object\n"
     ]
    }
   ],
   "source": [
    "print(X.dtypes)\n"
   ]
  },
  {
   "cell_type": "code",
   "execution_count": 60,
   "id": "19a2b30e",
   "metadata": {},
   "outputs": [],
   "source": [
    "df.columns = df.columns.str.strip()\n"
   ]
  },
  {
   "cell_type": "code",
   "execution_count": 61,
   "id": "cd9db100",
   "metadata": {},
   "outputs": [],
   "source": [
    "# Define the columns that are expected to be numeric\n",
    "numeric_columns = ['Area', 'Price', 'Price_per_sq_ft','Appartment_type']  # replace with actual column names\n",
    "\n",
    "# Remove commas and convert to numeric\n",
    "for col in numeric_columns:\n",
    "    df[col] = df[col].replace({',': ''}, regex=True)  # Remove commas\n",
    "    df[col] = pd.to_numeric(df[col], errors='coerce')  # Convert to numeric, invalid values will be NaN\n",
    "\n",
    "\n"
   ]
  },
  {
   "cell_type": "code",
   "execution_count": 62,
   "id": "f26519c3",
   "metadata": {},
   "outputs": [],
   "source": [
    "# Fill NaN values with the mean (or median, or remove rows, depending on your use case)\n",
    "df[numeric_columns] = df[numeric_columns].fillna(df[numeric_columns].mean())\n"
   ]
  },
  {
   "cell_type": "code",
   "execution_count": 63,
   "id": "7da1c517",
   "metadata": {},
   "outputs": [],
   "source": [
    "# Ensure columns are float type\n",
    "df[numeric_columns] = df[numeric_columns].astype(float)\n"
   ]
  },
  {
   "cell_type": "code",
   "execution_count": 64,
   "id": "525cbbdd",
   "metadata": {},
   "outputs": [],
   "source": [
    "from sklearn.compose import ColumnTransformer\n",
    "from sklearn.preprocessing import StandardScaler\n",
    "from sklearn.pipeline import Pipeline\n",
    "from sklearn.linear_model import LinearRegression\n",
    "\n",
    "# Define the transformer to apply scaling to numeric columns\n",
    "transformer = ColumnTransformer(\n",
    "    transformers=[\n",
    "        ('num', StandardScaler(), numeric_columns)\n",
    "    ]\n",
    ")\n",
    "\n",
    "# Build the pipeline\n",
    "model = Pipeline(steps=[\n",
    "    ('transformer', transformer),\n",
    "    ('regressor', LinearRegression())\n",
    "])\n"
   ]
  },
  {
   "cell_type": "code",
   "execution_count": 65,
   "id": "63a3bf0d",
   "metadata": {},
   "outputs": [],
   "source": [
    "import pickle\n",
    "from sklearn.linear_model import LinearRegression\n",
    "\n",
    "# Your code to train the model here...\n",
    "model = LinearRegression()\n",
    "# Save the model\n",
    "with open('model.pkl', 'wb') as file:\n",
    "    pickle.dump(model, file)\n"
   ]
  },
  {
   "cell_type": "code",
   "execution_count": 54,
   "id": "e9732882",
   "metadata": {},
   "outputs": [],
   "source": [
    "import json\n",
    "columns={\n",
    "    'data_columns': [col.lower() for col in X.columns]\n",
    "}\n",
    "with open(\"columns.json\",\"w\") as f:\n",
    "    f.write(json.dumps(columns))"
   ]
  },
  {
   "cell_type": "code",
   "execution_count": null,
   "id": "0d8a1314",
   "metadata": {},
   "outputs": [],
   "source": []
  }
 ],
 "metadata": {
  "kernelspec": {
   "display_name": "Python 3 (ipykernel)",
   "language": "python",
   "name": "python3"
  },
  "language_info": {
   "codemirror_mode": {
    "name": "ipython",
    "version": 3
   },
   "file_extension": ".py",
   "mimetype": "text/x-python",
   "name": "python",
   "nbconvert_exporter": "python",
   "pygments_lexer": "ipython3",
   "version": "3.9.12"
  }
 },
 "nbformat": 4,
 "nbformat_minor": 5
}
